{
 "cells": [
  {
   "cell_type": "code",
   "execution_count": 1,
   "id": "100ece63-ec3c-4f59-921b-faf4d594a432",
   "metadata": {},
   "outputs": [],
   "source": [
    "import numpy as np\n"
   ]
  },
  {
   "cell_type": "code",
   "execution_count": 2,
   "id": "6135fba7-4fac-4a32-8cc4-826580d931b7",
   "metadata": {},
   "outputs": [
    {
     "name": "stdout",
     "output_type": "stream",
     "text": [
      "[ 1  2  3  4  5  6  7  8  9 10]\n"
     ]
    }
   ],
   "source": [
    "#1.Crie um array NumPy unidimensional com os números de 1 a 10.\n",
    "OneDim = np.arange (1, 11)\n",
    "\n",
    "print (OneDim)"
   ]
  },
  {
   "cell_type": "code",
   "execution_count": 3,
   "id": "50d3c0c2-6b72-4149-b914-49e1fa2076e9",
   "metadata": {},
   "outputs": [
    {
     "name": "stdout",
     "output_type": "stream",
     "text": [
      "[[0. 0. 0.]\n",
      " [0. 0. 0.]\n",
      " [0. 0. 0.]]\n"
     ]
    }
   ],
   "source": [
    "#2. Crie um array NumPy bidimensional 3x3 preenchido com zeros.\n",
    "arrayzeros = np.zeros((3,3))\n",
    "#arrayzeros.ndim\n",
    "#arrayzeros.shape\n",
    "print(arrayzeros)"
   ]
  },
  {
   "cell_type": "code",
   "execution_count": 4,
   "id": "6cac6245-2df1-4061-a59b-1c9b428c2f89",
   "metadata": {},
   "outputs": [
    {
     "name": "stdout",
     "output_type": "stream",
     "text": [
      "[[1 1 1 1]\n",
      " [1 1 1 1]\n",
      " [1 1 1 1]\n",
      " [1 1 1 1]]\n"
     ]
    }
   ],
   "source": [
    "#3. Crie um array NumPy bidimensional 4x4 preenchido com uns.\n",
    "ArrayOne= np.ones((4,4) , dtype=int)\n",
    "ArrayOne.shape\n",
    "print (ArrayOne)\n"
   ]
  },
  {
   "cell_type": "code",
   "execution_count": 5,
   "id": "cd6172a4-7f94-455b-8ee5-9801a161b98e",
   "metadata": {},
   "outputs": [
    {
     "name": "stdout",
     "output_type": "stream",
     "text": [
      "[39 63 29 61 38 25 66 88 43  9 45 33 57 72 74 84  4 31 54 55]\n"
     ]
    }
   ],
   "source": [
    "#4. Crie um array NumPy com 20 valores aleatórios entre 0 e 100.\n",
    "Randomix = np.random.randint(0, 100, 20, int)\n",
    "print(Randomix)"
   ]
  },
  {
   "cell_type": "code",
   "execution_count": 6,
   "id": "54277fbb-641a-42e8-90fb-42954524c15b",
   "metadata": {},
   "outputs": [
    {
     "name": "stdout",
     "output_type": "stream",
     "text": [
      "[ 1.   1.5  2.   2.5  3.   3.5  4.   4.5  5.   5.5  6.   6.5  7.   7.5\n",
      "  8.   8.5  9.   9.5 10. ]\n"
     ]
    }
   ],
   "source": [
    "#5 Crie um array NumPy unidimensional com espaçamento de 0.5 entre 0 e 10.\n",
    "answ5 = np.arange(1, 10.5, 0.5)\n",
    "print(answ5)"
   ]
  },
  {
   "cell_type": "code",
   "execution_count": 7,
   "id": "4930d9e7",
   "metadata": {},
   "outputs": [
    {
     "name": "stdout",
     "output_type": "stream",
     "text": [
      "[[ 1 93 65 74 85]\n",
      " [38 78 45 60 20]\n",
      " [94 96 61 33  1]\n",
      " [ 0 35 71 95 77]\n",
      " [86 75 49 87 16]]\n"
     ]
    }
   ],
   "source": [
    "#6 Crie um array NumPy bidimensional 5x5 com valores aleatórios inteiros entre 1 e 100.\n",
    "answ6 = np.random.randint(0, 100,(5,5), int)\n",
    "\n",
    "print(answ6)\n",
    "\n"
   ]
  },
  {
   "cell_type": "code",
   "execution_count": 8,
   "id": "78f8697e",
   "metadata": {},
   "outputs": [
    {
     "name": "stdout",
     "output_type": "stream",
     "text": [
      "[2 5 8]\n"
     ]
    }
   ],
   "source": [
    "#7 Dada a matriz A = [[1, 2, 3], [4, 5, 6], [7, 8, 9]],\n",
    "#crie um array NumPy contendo apenas a segunda coluna da matriz A.\n",
    "\n",
    "A = np.array([[1, 2, 3], [4, 5, 6], [7, 8, 9]])\n",
    "\n",
    "SecondColumn = (A[: , 1])\n",
    "\n",
    "print(SecondColumn)"
   ]
  },
  {
   "cell_type": "code",
   "execution_count": 9,
   "id": "5b6544fb",
   "metadata": {},
   "outputs": [
    {
     "name": "stdout",
     "output_type": "stream",
     "text": [
      "[ 1 -1  3 -1  5]\n"
     ]
    }
   ],
   "source": [
    "#8 Dado o array NumPy x = [1, 2, 3, 4, 5],\n",
    "#crie um novo array onde todos os valores pares sejam substituídos por -1.\n",
    "\n",
    "x = np.array ([1, 2, 3, 4, 5])\n",
    "\n",
    "new_array = np.where(x % 2 ==0, -1, x)\n",
    "\n",
    "print (new_array)\n",
    "\n"
   ]
  },
  {
   "cell_type": "code",
   "execution_count": 10,
   "id": "a222ffa0",
   "metadata": {},
   "outputs": [
    {
     "name": "stdout",
     "output_type": "stream",
     "text": [
      "[1 2 0 0 0]\n"
     ]
    }
   ],
   "source": [
    "#9 Dado o array NumPy x = [1, 2, 3, 4, 5],\n",
    "#crie um novo array onde todos os valores maiores que 2 sejam substituídos por 0.\n",
    "\n",
    "y = np.array([1, 2, 3, 4, 5])\n",
    "\n",
    "New_y = np.where (y > 2, 0 ,y)\n",
    "\n",
    "print(New_y)\n",
    "\n"
   ]
  },
  {
   "cell_type": "code",
   "execution_count": 11,
   "id": "11da1006",
   "metadata": {},
   "outputs": [
    {
     "name": "stdout",
     "output_type": "stream",
     "text": [
      "[0.06666667 0.13333333 0.2        0.26666667 0.33333333]\n"
     ]
    }
   ],
   "source": [
    "#10 Dado o array NumPy x = [1, 2, 3, 4, 5],\n",
    "#normalize os valores do array de forma que a soma seja igual a 1.\n",
    "\n",
    "z = np.array([1,2,3,4,5])\n",
    "\n",
    "z_normalized = z / np.sum(z)\n",
    "\n",
    "print(z_normalized)\n"
   ]
  },
  {
   "cell_type": "code",
   "execution_count": 12,
   "id": "c77f0f1a",
   "metadata": {},
   "outputs": [
    {
     "name": "stdout",
     "output_type": "stream",
     "text": [
      "[[19 22]\n",
      " [43 50]]\n"
     ]
    }
   ],
   "source": [
    "#11 Dada a matriz A = [[1, 2], [3, 4]] e a matriz B = [[5, 6], [7, 8]],\n",
    "#calcule a multiplicação matricial entre A e B.\n",
    "\n",
    "\n",
    "A = np.array([[1, 2], [3, 4]])\n",
    "\n",
    "B = np.array([[5, 6], [7, 8]])\n",
    "\n",
    "Produto = np.dot (A, B)\n",
    "\n",
    "print(Produto)"
   ]
  },
  {
   "cell_type": "code",
   "execution_count": 13,
   "id": "e3f9a03d",
   "metadata": {},
   "outputs": [
    {
     "name": "stdout",
     "output_type": "stream",
     "text": [
      "[1 2 3 1 2 3 1 2 3]\n"
     ]
    },
    {
     "data": {
      "text/plain": [
       "3"
      ]
     },
     "execution_count": 13,
     "metadata": {},
     "output_type": "execute_result"
    }
   ],
   "source": [
    "#12 Dado o array NumPy x = [1, 2, 3],\n",
    "#crie um novo array com os valores de x repetidos três vezes.\n",
    "\n",
    "npyx = np.array([1, 2, 3])\n",
    "\n",
    "newOne = np.tile(npyx, 3)\n",
    "\n",
    "print(newOne)\n",
    "\n",
    "\n",
    "\n",
    "3"
   ]
  },
  {
   "cell_type": "code",
   "execution_count": 14,
   "id": "294d317c",
   "metadata": {},
   "outputs": [
    {
     "name": "stdout",
     "output_type": "stream",
     "text": [
      "[1 1 1 2 2 2 3 3 3]\n"
     ]
    }
   ],
   "source": [
    "#13 Dado o array NumPy x = [1, 2, 3],\n",
    "#crie um novo array com os valores de x repetidos lado a lado três vezes.\n",
    "\n",
    "npxyz = np.array([1,2,3])\n",
    "\n",
    "newiestOne = np.repeat(npxyz, 3)\n",
    "\n",
    "print(newiestOne)\n",
    "\n"
   ]
  },
  {
   "cell_type": "code",
   "execution_count": 15,
   "id": "f0f900d5",
   "metadata": {},
   "outputs": [
    {
     "name": "stdout",
     "output_type": "stream",
     "text": [
      "[[1 2 3]\n",
      " [1 2 3]\n",
      " [1 2 3]]\n"
     ]
    }
   ],
   "source": [
    "# 14 Dado o array NumPy x = [1, 2, 3], crie um novo array com os valores de x repetidos verticalmente três vezes.\n",
    "\n",
    "nparray = np.array([1,2,3])\n",
    "\n",
    "new_nparray = np.tile(nparray,(3, 1))\n",
    "\n",
    "print(new_nparray)\n",
    "\n"
   ]
  }
 ],
 "metadata": {
  "kernelspec": {
   "display_name": "Python 3 (ipykernel)",
   "language": "python",
   "name": "python3"
  },
  "language_info": {
   "codemirror_mode": {
    "name": "ipython",
    "version": 3
   },
   "file_extension": ".py",
   "mimetype": "text/x-python",
   "name": "python",
   "nbconvert_exporter": "python",
   "pygments_lexer": "ipython3",
   "version": "3.11.3"
  }
 },
 "nbformat": 4,
 "nbformat_minor": 5
}
