{
 "cells": [
  {
   "cell_type": "code",
   "execution_count": 1,
   "id": "100ece63-ec3c-4f59-921b-faf4d594a432",
   "metadata": {},
   "outputs": [],
   "source": [
    "import numpy as np\n"
   ]
  },
  {
   "cell_type": "code",
   "execution_count": 4,
   "id": "6135fba7-4fac-4a32-8cc4-826580d931b7",
   "metadata": {},
   "outputs": [],
   "source": [
    "#1.Crie um array NumPy unidimensional com os números de 1 a 10.\n",
    "OneDim = np.array([1,2,3,4,5,6,7,8,9,10])"
   ]
  },
  {
   "cell_type": "code",
   "execution_count": 12,
   "id": "50d3c0c2-6b72-4149-b914-49e1fa2076e9",
   "metadata": {},
   "outputs": [
    {
     "data": {
      "text/plain": [
       "(3, 2)"
      ]
     },
     "execution_count": 12,
     "metadata": {},
     "output_type": "execute_result"
    }
   ],
   "source": [
    "#2. Crie um array NumPy bidimensional 3x3 preenchido com zeros.\n",
    "arrayzeros = np.zeros((3,2))\n",
    "#arrayzeros.ndim\n",
    "#arrayzeros.shape"
   ]
  },
  {
   "cell_type": "code",
   "execution_count": 26,
   "id": "6cac6245-2df1-4061-a59b-1c9b428c2f89",
   "metadata": {},
   "outputs": [
    {
     "name": "stdout",
     "output_type": "stream",
     "text": [
      "[[1 1 1 1]\n",
      " [1 1 1 1]\n",
      " [1 1 1 1]\n",
      " [1 1 1 1]]\n"
     ]
    }
   ],
   "source": [
    "#3. Crie um array NumPy bidimensional 4x4 preenchido com uns.\n",
    "ArrayOne= np.ones((4,4) , dtype=int)\n",
    "ArrayOne.shape\n",
    "print (ArrayOne)\n"
   ]
  },
  {
   "cell_type": "code",
   "execution_count": 27,
   "id": "cd6172a4-7f94-455b-8ee5-9801a161b98e",
   "metadata": {},
   "outputs": [],
   "source": [
    "#4. Crie um array NumPy com 20 valores aleatórios entre 0 e 100.\n",
    "np.random.random(())"
   ]
  },
  {
   "cell_type": "code",
   "execution_count": null,
   "id": "54277fbb-641a-42e8-90fb-42954524c15b",
   "metadata": {},
   "outputs": [],
   "source": []
  }
 ],
 "metadata": {
  "kernelspec": {
   "display_name": "Python 3 (ipykernel)",
   "language": "python",
   "name": "python3"
  },
  "language_info": {
   "codemirror_mode": {
    "name": "ipython",
    "version": 3
   },
   "file_extension": ".py",
   "mimetype": "text/x-python",
   "name": "python",
   "nbconvert_exporter": "python",
   "pygments_lexer": "ipython3",
   "version": "3.10.9"
  }
 },
 "nbformat": 4,
 "nbformat_minor": 5
}
